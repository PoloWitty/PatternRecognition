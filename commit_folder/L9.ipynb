{
 "cells": [
  {
   "cell_type": "code",
   "execution_count": 1,
   "metadata": {},
   "outputs": [],
   "source": [
    "import torch\n",
    "from torch import nn\n",
    "from sklearn import datasets\n",
    "from sklearn.model_selection import train_test_split\n",
    "import matplotlib.pyplot as plt\n",
    "from sklearn.datasets import fetch_openml\n",
    "import matplotlib as mpl\n",
    "import numpy as np\n",
    "SEED=0"
   ]
  },
  {
   "cell_type": "markdown",
   "metadata": {},
   "source": [
    "# T1\n",
    "# 准备数据"
   ]
  },
  {
   "cell_type": "code",
   "execution_count": 2,
   "metadata": {},
   "outputs": [],
   "source": [
    "iris=datasets.load_iris()\n",
    "# list(iris.keys())\n",
    "X=iris['data']\n",
    "y=iris['target']\n",
    "class_idx =[np.where(y==i)[0] for i in range(3)]\n",
    "tmp=[train_test_split(X[class_idx[i]],y[class_idx[i]],train_size=0.6,test_size=0.4,random_state=SEED) for i in range(3)]\n",
    "X_train,X_test,y_train,y_test=tmp[0]\n",
    "for i in range(1,3):\n",
    "    X_train=np.vstack((X_train,tmp[i][0]))\n",
    "    X_test=np.vstack((X_test,tmp[i][1]))\n",
    "    y_train=np.vstack((y_train,tmp[i][2]))\n",
    "    y_test=np.vstack((y_test,tmp[i][3]))\n",
    "y_train=y_train.flatten()\n",
    "y_test=y_test.flatten()\n",
    "# y_train=y_train.reshape((y_train.shape[0],1))\n",
    "# y_test=y_test.reshape((y_test.shape[0],1))"
   ]
  },
  {
   "cell_type": "markdown",
   "metadata": {},
   "source": [
    "# 感知器OvO\n",
    "## 划分数据集"
   ]
  },
  {
   "cell_type": "code",
   "execution_count": 3,
   "metadata": {},
   "outputs": [],
   "source": [
    "# 注意要把y的标签换成对应的+1,-1, 而不是原来的那种label形式\n",
    "X_subset0=np.vstack((X_train[y_train==0],X_train[y_train==1])) #(0,1)\n",
    "y_subset0=np.hstack(([-1]*len(y_train[y_train==0]),[1]*len(y_train[y_train==1])))\n",
    "X_subset1=np.vstack((X_train[y_train==0],X_train[y_train==2])) #(0,2)\n",
    "y_subset1=np.hstack(([-1]*len(y_train[y_train==0]),[1]*len(y_train[y_train==2])))\n",
    "X_subset2=np.vstack((X_train[y_train==1],X_train[y_train==2])) #(1,2)\n",
    "y_subset2=np.hstack(([-1]*len(y_train[y_train==1]),[1]*len(y_train[y_train==2])))"
   ]
  },
  {
   "cell_type": "markdown",
   "metadata": {},
   "source": [
    "## pla from L2"
   ]
  },
  {
   "cell_type": "code",
   "execution_count": 4,
   "metadata": {},
   "outputs": [],
   "source": [
    "def PLA(data,w_init, max_iter,if_draw=False):\n",
    "    w = w_init\n",
    "    X=data[0]\n",
    "    y=data[1]\n",
    "    X=np.hstack((np.ones((X.shape[0],1)),X))\n",
    "\n",
    "    for i in range(max_iter):\n",
    "        h = np.sign(X @ w)\n",
    "        mistake_indices = np.where(h != y)[0]\n",
    "        if len(mistake_indices):\n",
    "            j = np.random.choice(mistake_indices)\n",
    "            w = w + y[j]*X[j,:]\n",
    "        else:\n",
    "            break\n",
    "\n",
    "    print('PLA Training Accuracy:',str((X.shape[0]-len(mistake_indices))/X.shape[0]))\n",
    "    return w"
   ]
  },
  {
   "cell_type": "markdown",
   "metadata": {},
   "source": [
    "## train and classify"
   ]
  },
  {
   "cell_type": "code",
   "execution_count": 5,
   "metadata": {},
   "outputs": [
    {
     "name": "stdout",
     "output_type": "stream",
     "text": [
      "PLA Training Accuracy: 1.0\n",
      "PLA Training Accuracy: 1.0\n",
      "PLA Training Accuracy: 1.0\n",
      "PLA OvO Test Accuracy: 0.8833333333333333\n"
     ]
    }
   ],
   "source": [
    "perceptron0=PLA((X_subset0,y_subset0),[0,0,0,0,0],500)\n",
    "perceptron1=PLA((X_subset1,y_subset1),[0,0,0,0,0],500)\n",
    "perceptron2=PLA((X_subset2,y_subset2),[0,0,0,0,0],500)\n",
    "X=X_test\n",
    "X=np.hstack((np.ones((X.shape[0],1)),X))\n",
    "h0=np.where(np.sign(X@perceptron0)==-1,0,1)\n",
    "h1=np.where(np.sign(X@perceptron1)==-1,0,2)\n",
    "h2=np.where(np.sign(X@perceptron2)==-1,1,2)\n",
    "h=np.vstack((h0,h1,h2)).T\n",
    "f=lambda x:np.argmax(np.bincount(x))#求众数的方法\n",
    "h=np.apply_along_axis(f,1,h)\n",
    "mistake_indices = np.where(h != y_test)[0]\n",
    "print('PLA OvO Test Accuracy:',str((h.shape[0]-len(mistake_indices))/h.shape[0]))"
   ]
  },
  {
   "cell_type": "markdown",
   "metadata": {},
   "source": [
    "# softmax"
   ]
  },
  {
   "cell_type": "code",
   "execution_count": 6,
   "metadata": {},
   "outputs": [],
   "source": [
    "class SGD():\n",
    "    def __init__(self,learning_rate=0.1):\n",
    "        self.learning_rate=learning_rate\n",
    "\n",
    "    # def zero_grad(self):\n",
    "    #     self.grad[:]=0\n",
    "\n",
    "    def step(self,w,grad):\n",
    "        w = w - self.learning_rate*grad\n",
    "        return w\n",
    "\n",
    "class Softmax():\n",
    "    def __init__(self,K):\n",
    "        self.K=K\n",
    "        self.act_fn=nn.Softmax(dim=1)\n",
    "        self.optimizer=SGD(learning_rate=0.01)\n",
    "        self.epsilon=np.finfo(np.float).eps#numpy的浮点数精度, 避免出现对0取自然对数的情况\n",
    "    \n",
    "    def backward(self,X,labels):\n",
    "        N=X.shape[0]\n",
    "        g=torch.zeros((self.K,self.d))\n",
    "        p=self.act_fn(X@(self.w.T)) #(N,K)\n",
    "        for k in range(self.K):\n",
    "            tmp=torch.zeros((N,self.d))\n",
    "            for idx,j in enumerate(labels):\n",
    "                if j ==k:\n",
    "                    tmp[idx,:]=(p[idx,j]-1)*X[idx,:]\n",
    "                else:\n",
    "                    tmp[idx,:]=p[idx,k]*X[idx,:]\n",
    "            g[k,:]=tmp.sum(dim=0)\n",
    "        return g,p\n",
    "    def loss_fn(self,pred,labels):\n",
    "        h=torch.zeros_like(labels,dtype=torch.float)\n",
    "        for i,label in enumerate(labels):\n",
    "            h[i]=pred[i,label]+self.epsilon \n",
    "        return torch.sum(-torch.log(h))/pred.shape[0]\n",
    "\n",
    "    def fit(self,X,y,batch_size=1,epoch=100):\n",
    "        X=np.hstack((np.ones((X.shape[0],1)),X))\n",
    "        _,self.d=X.shape\n",
    "        self.w=torch.normal(0,0.01,size=(self.K,self.d),dtype=torch.float) # (K,d) K是类别数 d是做了增广之后的\n",
    "        X=torch.tensor(X,dtype=torch.float) # (N,d)\n",
    "        labels=torch.tensor(y)\n",
    "\n",
    "        loss_history={}\n",
    "        for e in range(epoch):\n",
    "            batch_num=X.shape[0]//batch_size\n",
    "            for i in range(batch_num):\n",
    "                try:\n",
    "                    batch_data=(X[i*batch_size:(i+1)*batch_size,:],labels[i*batch_size:(i+1)*batch_size])\n",
    "                except:\n",
    "                    batch_data=(X[i*batch_size:,:],labels[i*batch_size:])\n",
    "                    batch_size=labels.shape[0]%batch_size\n",
    "                # print(batch_data)\n",
    "                grad,pred=self.backward(batch_data[0],batch_data[1])\n",
    "                loss=self.loss_fn(pred,batch_data[1])\n",
    "                self.w=self.optimizer.step(self.w,grad)\n",
    "            loss_history[e]=loss\n",
    "\n",
    "        return loss_history\n",
    "\n",
    "    def predict(self,X):\n",
    "        X=np.hstack((np.ones((X.shape[0],1)),X))\n",
    "        X=torch.tensor(X,dtype=torch.float) # (N,d)\n",
    "        p=self.act_fn(X@(self.w.T)) #(N,K)\n",
    "        h=torch.argmax(p,dim=1)\n",
    "        return h\n",
    "\n",
    "    def eval(self,X,y):\n",
    "        h=self.predict(X)\n",
    "        y=torch.tensor(y,dtype=torch.int64)\n",
    "        mistake_indices = np.where(h != y)[0]\n",
    "        return (h.shape[0]-len(mistake_indices))/h.shape[0]"
   ]
  },
  {
   "cell_type": "code",
   "execution_count": 7,
   "metadata": {},
   "outputs": [
    {
     "name": "stdout",
     "output_type": "stream",
     "text": [
      "Softmax test Accuracy: 0.8\n"
     ]
    }
   ],
   "source": [
    "model=Softmax(3)\n",
    "model.fit(X_train,y_train,1,100)\n",
    "print('Softmax test Accuracy:',str(model.eval(X_test,y_test)))"
   ]
  },
  {
   "cell_type": "markdown",
   "metadata": {},
   "source": [
    " 可见单层softmax与多个感知机做集成学习的效果相差不算特别明显, 甚至并不如集成感知机的结果"
   ]
  },
  {
   "cell_type": "markdown",
   "metadata": {},
   "source": [
    "# T2\n",
    "# 准备数据"
   ]
  },
  {
   "cell_type": "code",
   "execution_count": 8,
   "metadata": {},
   "outputs": [],
   "source": [
    "mnist=fetch_openml('mnist_784',data_home='./data')\n",
    "def plot_digit(data):\n",
    "    '''画一个数字'''\n",
    "    image = data.reshape(28, 28)\n",
    "    plt.imshow(image, cmap = mpl.cm.binary,\n",
    "               interpolation=\"nearest\")\n",
    "    plt.axis(\"off\")\n",
    "\n",
    "def plot_digits(instances, images_per_row=10, **options):\n",
    "    '''画很多个数字'''\n",
    "    size = 28\n",
    "    images_per_row = min(len(instances), images_per_row)\n",
    "    images = [instance.reshape(size,size) for instance in instances]\n",
    "    n_rows = (len(instances) - 1) // images_per_row + 1\n",
    "    row_images = []\n",
    "    n_empty = n_rows * images_per_row - len(instances)\n",
    "    images.append(np.zeros((size, size * n_empty)))\n",
    "    for row in range(n_rows):\n",
    "        rimages = images[row * images_per_row : (row + 1) * images_per_row]\n",
    "        row_images.append(np.concatenate(rimages, axis=1))\n",
    "    image = np.concatenate(row_images, axis=0)\n",
    "    plt.imshow(image, cmap = mpl.cm.binary, **options)\n",
    "    plt.axis(\"off\")"
   ]
  },
  {
   "cell_type": "code",
   "execution_count": 9,
   "metadata": {},
   "outputs": [],
   "source": [
    "X=mnist['data'].values\n",
    "y=np.array(mnist['target'].values,dtype=np.int)\n",
    "X_train,X_test,y_train,y_test=train_test_split(X,y,train_size=6000,test_size=1000)"
   ]
  },
  {
   "cell_type": "code",
   "execution_count": 10,
   "metadata": {},
   "outputs": [
    {
     "name": "stdout",
     "output_type": "stream",
     "text": [
      "mnist test accuracy:  0.815\n"
     ]
    }
   ],
   "source": [
    "model=Softmax(10)\n",
    "loss_history=model.fit(X_train,y_train,256,10)\n",
    "print('mnist test accuracy: ',str(model.eval(X_test,y_test)))"
   ]
  },
  {
   "cell_type": "code",
   "execution_count": 11,
   "metadata": {},
   "outputs": [
    {
     "data": {
      "text/plain": [
       "Text(0.5, 1.0, 'Learning curve')"
      ]
     },
     "execution_count": 11,
     "metadata": {},
     "output_type": "execute_result"
    },
    {
     "data": {
      "image/png": "[encoded data removed]",
      "text/plain": [
       "<Figure size 432x288 with 1 Axes>"
      ]
     },
     "metadata": {
      "needs_background": "light"
     },
     "output_type": "display_data"
    }
   ],
   "source": [
    "# learning curve\n",
    "plt.scatter(x=loss_history.keys(),y=loss_history.values())\n",
    "plt.xlabel('epoch')\n",
    "plt.ylabel('loss')\n",
    "plt.title('Learning curve')"
   ]
  },
  {
   "cell_type": "markdown",
   "metadata": {},
   "source": [
    "## 随机抽取测试"
   ]
  },
  {
   "cell_type": "code",
   "execution_count": 12,
   "metadata": {},
   "outputs": [
    {
     "name": "stdout",
     "output_type": "stream",
     "text": [
      "actual label: [9 3 1 2 9 1 2 9 3 0]\n",
      "predict label: tensor([9, 3, 1, 6, 9, 1, 2, 9, 3, 0])\n"
     ]
    },
    {
     "data": {
      "image/png": "[encoded data removed]",
      "text/plain": [
       "<Figure size 432x288 with 1 Axes>"
      ]
     },
     "metadata": {
      "needs_background": "light"
     },
     "output_type": "display_data"
    }
   ],
   "source": [
    "X=X_test[100:110]\n",
    "y=y_test[100:110]\n",
    "h=model.predict(X)\n",
    "plot_digits(X)\n",
    "print('actual label:',y)\n",
    "print('predict label:',h)"
   ]
  }
 ],
 "metadata": {
  "kernelspec": {
   "display_name": "Python 3 (ipykernel)",
   "language": "python",
   "name": "python3"
  },
  "language_info": {
   "codemirror_mode": {
    "name": "ipython",
    "version": 3
   },
   "file_extension": ".py",
   "mimetype": "text/x-python",
   "name": "python",
   "nbconvert_exporter": "python",
   "pygments_lexer": "ipython3",
   "version": "3.8.10"
  }
 },
 "nbformat": 4,
 "nbformat_minor": 2
}
