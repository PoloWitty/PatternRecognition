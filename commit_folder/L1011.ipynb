{
 "cells": [
  {
   "cell_type": "code",
   "execution_count": 1,
   "metadata": {},
   "outputs": [],
   "source": [
    "from  sklearn import datasets\n",
    "from sklearn.model_selection import train_test_split\n",
    "import numpy as np\n",
    "import torch\n",
    "from torch import nn\n",
    "from torch.utils import tensorboard\n",
    "from torch.utils.data import Dataset,DataLoader\n",
    "from torchvision.transforms import ToTensor,Lambda, transforms\n",
    "from torch.utils.tensorboard import SummaryWriter\n",
    "import torchvision\n",
    "from IPython.display import display_html\n",
    "# %reload_ext tensorboard\n",
    "from tensorboard import notebook\n",
    "import matplotlib as mpl\n",
    "import matplotlib.pyplot as plt\n",
    "from tqdm import tqdm\n",
    "SEED=0\n",
    "device = 'cuda' if torch.cuda.is_available() else 'cpu'"
   ]
  },
  {
   "cell_type": "markdown",
   "metadata": {},
   "source": [
    "# T1\n",
    "## 定义数据集并设置dataloader"
   ]
  },
  {
   "cell_type": "code",
   "execution_count": 2,
   "metadata": {},
   "outputs": [],
   "source": [
    "class Iris(Dataset):\n",
    "    def __init__(self,train:bool,transform=None,target_transform=None) -> None:\n",
    "        super().__init__()\n",
    "\n",
    "        iris=datasets.load_iris()\n",
    "        X=iris['data']\n",
    "        y=iris['target']\n",
    "        class_idx =[np.where(y==i)[0] for i in range(3)]\n",
    "        tmp=[train_test_split(X[class_idx[i]],y[class_idx[i]],train_size=0.6,test_size=0.4,random_state=SEED) for i in range(3)]\n",
    "        X_train,X_test,y_train,y_test=tmp[0]\n",
    "        for i in range(1,3):\n",
    "            X_train=np.vstack((X_train,tmp[i][0]))\n",
    "            X_test=np.vstack((X_test,tmp[i][1]))\n",
    "            y_train=np.vstack((y_train,tmp[i][2]))\n",
    "            y_test=np.vstack((y_test,tmp[i][3]))\n",
    "        y_train=y_train.flatten()\n",
    "        y_test=y_test.flatten()\n",
    "\n",
    "        if train:\n",
    "            self.X=X_train\n",
    "            self.labels=y_train\n",
    "        else:\n",
    "            self.X=X_test\n",
    "            self.labels=y_test\n",
    "\n",
    "        self.transform = transform\n",
    "        self.target_transform = target_transform\n",
    "\n",
    "    def __len__(self):\n",
    "        return len(self.labels)\n",
    "\n",
    "    def __getitem__(self,idx):\n",
    "        x = self.X[idx,:]\n",
    "        label = self.labels[idx]\n",
    "        if self.transform:\n",
    "            x = self.transform(x)\n",
    "        if self.target_transform:\n",
    "            label = self.target_transform(label)\n",
    "        return x,label\n",
    "# target_transform=Lambda(lambda y:torch.zeros(3).scatter_(dim=0,index=torch.tensor(y,dtype=torch.int64),value=1))#3是数据集中label的种类数,`scatter_`赋值(value=1)在给定的index处 #也就是把它转变成One-hot形式 #这里不用做, pytorch里的交叉熵函数要求输进去的是labels的格式\n",
    "transform=Lambda(lambda x:torch.tensor(x,dtype=torch.float32,device=device))\n",
    "target_transform=Lambda(lambda y:torch.tensor(y,dtype=torch.long,device=device))\n",
    "train_data=Iris(train=True,transform=transform,target_transform=target_transform)\n",
    "test_data=Iris(train=False,transform=transform,target_transform=target_transform)\n",
    "train_dataloader = DataLoader(train_data,shuffle=True,batch_size=20)\n",
    "test_dataloader = DataLoader(test_data,shuffle=True,batch_size=20)"
   ]
  },
  {
   "cell_type": "markdown",
   "metadata": {},
   "source": [
    "## 定义模型"
   ]
  },
  {
   "cell_type": "code",
   "execution_count": 3,
   "metadata": {},
   "outputs": [
    {
     "name": "stdout",
     "output_type": "stream",
     "text": [
      "Done!\n",
      "Test error:\n",
      " Accuracy:0.9,avg loss:0.033315\n"
     ]
    }
   ],
   "source": [
    "class NeuralNetwork(nn.Module):\n",
    "    def __init__(self,lr=0.1):\n",
    "        super(NeuralNetwork, self).__init__()\n",
    "        self.fc_layer=nn.Sequential(\n",
    "            nn.Linear(4,20),\n",
    "            nn.ReLU(),\n",
    "            nn.Linear(20,20),\n",
    "            nn.ReLU()\n",
    "        )# fully connected layer\n",
    "        self.out_fn=nn.Sequential(\n",
    "            nn.Linear(20,3),\n",
    "            nn.Softmax(dim=1)\n",
    "            )\n",
    "        self.loss_fn=nn.CrossEntropyLoss()\n",
    "        self.optimizer = torch.optim.Adam(self.parameters(),lr=lr)\n",
    "\n",
    "    def forward(self,x):\n",
    "        x=self.fc_layer(x)\n",
    "        pred = self.out_fn(x)\n",
    "        return pred\n",
    "\n",
    "    def print_model(self):\n",
    "        #模型结构与参数量\n",
    "        print(\"Model structure: \", self, \"\\n\\n\")\n",
    "\n",
    "        for name, param in self.named_parameters():\n",
    "            print(f\"Layer: {name} | Size: {param.size()} | Values : {param[:2]} \\n\")\n",
    "\n",
    "    def train_loop(self,dataloader):\n",
    "        size = len(dataloader.dataset)\n",
    "        loss_history={}\n",
    "        for batch,(X,y) in enumerate(dataloader):\n",
    "            self.optimizer.zero_grad()\n",
    "            pred = self.__call__(X)\n",
    "            loss = self.loss_fn(pred,y)\n",
    "            loss.backward()\n",
    "            self.optimizer.step()\n",
    "\n",
    "            loss_history[batch]=loss.item()\n",
    "        return loss_history\n",
    "\n",
    "    def test_loop(self,dataloader):\n",
    "        size = len(dataloader.dataset)\n",
    "        test_loss,correct = 0,0\n",
    "        with torch.no_grad():\n",
    "            for X,y in dataloader:\n",
    "                pred = self.__call__(X)\n",
    "                test_loss +=self.loss_fn(pred,y).item()\n",
    "                correct += (pred.argmax(1)==y).type(torch.float).sum().item()\n",
    "        test_loss /=size\n",
    "        correct /=size\n",
    "        print(f'Test error:\\n Accuracy:{correct:>0.1f},avg loss:{test_loss:>8f}')\n",
    "\n",
    "    def fit(self,dataloader,epoch,writer=None):\n",
    "        for e in range(epoch):\n",
    "            loss_history=self.train_loop(dataloader)\n",
    "            if writer:\n",
    "                for k,v in loss_history.items():\n",
    "                    writer.add_scalar('train_loss',v,k*dataloader.batch_size+e*len(dataloader)*dataloader.batch_size)\n",
    "                    \n",
    "        print('Done!')\n",
    "\n",
    "    def eval(self,dataloader):\n",
    "        self.test_loop(dataloader)\n",
    "        \n",
    "writer = SummaryWriter('log_dir/Iris/three layers 4-20-20-3 lr=0.01 relu')\n",
    "model = NeuralNetwork(lr=0.01).to(device)\n",
    "model.fit(train_dataloader,10,writer)\n",
    "model.eval(test_dataloader)"
   ]
  },
  {
   "cell_type": "code",
   "execution_count": 4,
   "metadata": {},
   "outputs": [
    {
     "name": "stdout",
     "output_type": "stream",
     "text": [
      "warning: Embedding dir exists, did you set global_step for add_embedding()?\n"
     ]
    },
    {
     "data": {
      "text/plain": [
       "Reusing TensorBoard on port 6006 (pid 5792), started 21:38:41 ago. (Use '!kill 5792' to kill it.)"
      ]
     },
     "metadata": {},
     "output_type": "display_data"
    },
    {
     "data": {
      "text/html": [
       "\n",
       "      <iframe id=\"tensorboard-frame-6e8848150715193\" width=\"100%\" height=\"800\" frameborder=\"0\">\n",
       "      </iframe>\n",
       "      <script>\n",
       "        (function() {\n",
       "          const frame = document.getElementById(\"tensorboard-frame-6e8848150715193\");\n",
       "          const url = new URL(\"http://localhost\");\n",
       "          const port = 6006;\n",
       "          if (port) {\n",
       "            url.port = port;\n",
       "          }\n",
       "          frame.src = url;\n",
       "        })();\n",
       "      </script>\n",
       "    "
      ],
      "text/plain": [
       "<IPython.core.display.HTML object>"
      ]
     },
     "metadata": {},
     "output_type": "display_data"
    }
   ],
   "source": [
    "#画网络结构\n",
    "dataiter = iter(train_dataloader)\n",
    "x,labels = dataiter.next()\n",
    "writer.add_graph(model,x)\n",
    "\n",
    "#画数据分布\n",
    "def select_n_random(data,labels,n=100):\n",
    "    '''select n random datapoints and their corresponding labels from a dataset'''\n",
    "    assert len(data) == len(labels)\n",
    "    \n",
    "    perm= torch.randperm(len(data))\n",
    "    return data[perm][:n],labels[perm][:n]\n",
    "x,labels = select_n_random(train_data[:][0],train_data[:][1])\n",
    "features = x.view(-1,4)\n",
    "writer.add_embedding(features,metadata=labels)\n",
    "\n",
    "notebook.start('--logdir log_dir')\n",
    "writer.close()"
   ]
  },
  {
   "cell_type": "markdown",
   "metadata": {},
   "source": [
    " ![结果](tensorboard_res.jpg)\n",
    " 从结果可以看出, 此处sigmoid作为激活函数可以使结果更快的收敛, 同时, 加深网络层数也会加快收敛, 增多神经元数量会使得收敛变快, 而减小初始学习率则会使得最终结果更好, 但是在训练初期也会收敛的相对更慢一点\n",
    "# T2\n",
    "## 数据集操作"
   ]
  },
  {
   "cell_type": "code",
   "execution_count": 5,
   "metadata": {},
   "outputs": [
    {
     "name": "stderr",
     "output_type": "stream",
     "text": [
      "E:\\coding\\Python\\anaconda\\anaconda\\envs\\pytorch\\lib\\site-packages\\torchvision\\datasets\\mnist.py:498: UserWarning: The given NumPy array is not writeable, and PyTorch does not support non-writeable tensors. This means you can write to the underlying (supposedly non-writeable) NumPy array using the tensor. You may want to copy the array to protect its data or make it writeable before converting it to a tensor. This type of warning will be suppressed for the rest of this program. (Triggered internally at  ..\\torch\\csrc\\utils\\tensor_numpy.cpp:180.)\n",
      "  return torch.from_numpy(parsed.astype(m[2], copy=False)).view(*s)\n"
     ]
    }
   ],
   "source": [
    "transform=transforms.Compose([transforms.ToTensor(),Lambda(lambda x:x.to(device))])#,transforms.Normalize((0.1037,), (0.3081,))\n",
    "target_transform=Lambda(lambda y:torch.tensor(y,device=device))\n",
    "train_data=torchvision.datasets.MNIST('data\\mnist', train=True, download=True,transform=transform,target_transform=target_transform)\n",
    "test_data=torchvision.datasets.MNIST('data\\mnist', train=False, download=True,transform=transform,target_transform=target_transform)\n",
    "\n",
    "train_dataloader = DataLoader(train_data,shuffle=True,batch_size=256)\n",
    "test_dataloader = DataLoader(test_data,shuffle=False,batch_size=256)\n",
    "def plot_digit(data):\n",
    "    '''画一个数字'''\n",
    "    image = data.reshape(28, 28)\n",
    "    plt.imshow(image, cmap = mpl.cm.binary,\n",
    "               interpolation=\"nearest\")\n",
    "    plt.axis(\"off\")\n",
    "\n",
    "def plot_digits(instances, images_per_row=10, **options):\n",
    "    '''画很多个数字'''\n",
    "    size = 28\n",
    "    images_per_row = min(len(instances), images_per_row)\n",
    "    images = [instance.reshape(size,size) for instance in instances]\n",
    "    n_rows = (len(instances) - 1) // images_per_row + 1\n",
    "    row_images = []\n",
    "    n_empty = n_rows * images_per_row - len(instances)\n",
    "    images.append(np.zeros((size, size * n_empty)))\n",
    "    for row in range(n_rows):\n",
    "        rimages = images[row * images_per_row : (row + 1) * images_per_row]\n",
    "        row_images.append(np.concatenate(rimages, axis=1))\n",
    "    image = np.concatenate(row_images, axis=0)\n",
    "    plt.imshow(image, cmap = mpl.cm.binary, **options)\n",
    "    plt.axis(\"off\")\n",
    "\n",
    "class LeNet(nn.Module):\n",
    "    def __init__(self):\n",
    "        super(LeNet,self).__init__()\n",
    "        self.conv1 = nn.Conv2d(in_channels=1, out_channels=6, kernel_size=5, stride=1, padding=2)\n",
    "        self.conv2 = nn.Conv2d(in_channels=6, out_channels=16, kernel_size=5, stride=1, padding=0)\n",
    "        self.avepool1 = nn.AvgPool2d(kernel_size=2, stride=2)\n",
    "        self.avepool2 = nn.AvgPool2d(kernel_size=2, stride=2)\n",
    "        self.fc1 = nn.Linear(400,120)\n",
    "        self.fc2 = nn.Linear(120,84)\n",
    "        self.fc3 = nn.Linear(84,10)\n",
    "\n",
    "        self.act_fn = nn.Sigmoid()\n",
    "\n",
    "        self.bn1 = nn.BatchNorm2d(6)\n",
    "        self.bn2 = nn.BatchNorm2d(16)\n",
    "        self.bn3 = nn.BatchNorm1d(120)\n",
    "        self.bn4 = nn.BatchNorm1d(84)\n",
    "\n",
    "        self.optimizer = torch.optim.SGD(self.parameters(),lr=0.1,momentum=0.9)\n",
    "        self.loss_fn = nn.CrossEntropyLoss()\n",
    "\n",
    "    def forward(self, x, batch_norm=False):\n",
    "        x = self.act_fn(self.conv1(x))\n",
    "        if batch_norm:\n",
    "            x = self.bn1(x)\n",
    "        x = self.avepool1(x)\n",
    "\n",
    "        x = self.act_fn(self.conv2(x))\n",
    "        if batch_norm:\n",
    "            x = self.bn2(x)\n",
    "        x = self.avepool2(x)\n",
    "\n",
    "        x = torch.flatten(x, 1) # flatten all dimensions except batch\n",
    "        x = self.act_fn(self.fc1(x))\n",
    "        if batch_norm:\n",
    "            x = self.bn3(x)\n",
    "        x = self.act_fn(self.fc2(x))\n",
    "        if batch_norm:\n",
    "            x = self.bn4(x)\n",
    "\n",
    "        x = nn.Softmax( dim=-1)(self.fc3(x))\n",
    "\n",
    "        return x\n",
    "\n",
    "    def init_weight(self):\n",
    "        for layer in self.modules():\n",
    "            if type(layer) in [nn.Linear, nn.Conv2d]:\n",
    "                nn.init.xavier_normal_(layer.weight)\n",
    "\n",
    "    def train_loop(self,dataloader):\n",
    "        size = len(dataloader.dataset)\n",
    "        loss_history={}\n",
    "        correct=0\n",
    "        for batch,(X,y) in enumerate(dataloader):\n",
    "\n",
    "            self.optimizer.zero_grad()\n",
    "            pred = self.__call__(X,batch_norm=True)\n",
    "            loss = self.loss_fn(pred,y)\n",
    "            loss.backward()\n",
    "            self.optimizer.step()\n",
    "\n",
    "            loss_history[batch]=loss.item()\n",
    "            correct +=(pred.argmax(1)==y).type(torch.float).sum().item()\n",
    "        correct /=size\n",
    "        return loss_history,correct\n",
    "\n",
    "    def test_loop(self,dataloader):\n",
    "        size = len(dataloader.dataset)\n",
    "        test_loss,correct = 0,0\n",
    "        with torch.no_grad():\n",
    "            for X,y in dataloader:\n",
    "                pred = self.__call__(X,batch_norm=True)\n",
    "                test_loss +=self.loss_fn(pred,y).item()\n",
    "                correct += (pred.argmax(1)==y).type(torch.float).sum().item()\n",
    "        test_loss /=size\n",
    "        correct /=size\n",
    "        return correct,test_loss\n",
    "\n",
    "    def predict(self,X):\n",
    "        with torch.no_grad():\n",
    "            pred = self.__call__(X,batch_norm=True)\n",
    "        return pred.argmax(1)\n",
    "    def fit(self,dataloader,epoch,writer=None,test_while_training=False,test_dataloader=None):\n",
    "        self.init_weight()\n",
    "        train_accuracy={}\n",
    "        test_accuracy={}\n",
    "        for e in tqdm(range(epoch)):\n",
    "            loss_history,train_acc=self.train_loop(dataloader)\n",
    "            if test_while_training:\n",
    "                test_acc,_=self.test_loop(test_dataloader)\n",
    "            if writer:\n",
    "                for k,v in loss_history.items():\n",
    "                    writer.add_scalar('train_loss',v,k*dataloader.batch_size+e*len(dataloader)*dataloader.batch_size)\n",
    "                writer.add_scalar('train_accuracy:',train_acc,e)\n",
    "                writer.add_scalar('test_accuracy:',test_acc,e)\n",
    "                train_accuracy[e]=train_acc\n",
    "                test_accuracy[e]=test_acc\n",
    "        print('Done!')\n",
    "        return train_accuracy,test_accuracy\n",
    "\n",
    "    def eval(self,dataloader):\n",
    "        correct,test_loss= self.test_loop(dataloader)\n",
    "        print(f'Test error:\\n Accuracy:{correct:>0.1f},avg loss:{test_loss:>8f}')"
   ]
  },
  {
   "cell_type": "code",
   "execution_count": 6,
   "metadata": {},
   "outputs": [
    {
     "name": "stderr",
     "output_type": "stream",
     "text": [
      "100%|██████████| 10/10 [02:39<00:00, 15.91s/it]\n"
     ]
    },
    {
     "name": "stdout",
     "output_type": "stream",
     "text": [
      "Done!\n",
      "Test error:\n",
      " Accuracy:1.0,avg loss:0.005906\n"
     ]
    }
   ],
   "source": [
    "writer = SummaryWriter('log_dir/Mnist')\n",
    "model = LeNet().to(device)\n",
    "train_accuray,test_accuray=model.fit(train_dataloader,10,writer,True,test_dataloader)\n",
    "model.eval(test_dataloader)"
   ]
  },
  {
   "cell_type": "code",
   "execution_count": 7,
   "metadata": {},
   "outputs": [
    {
     "name": "stdout",
     "output_type": "stream",
     "text": [
      "actual label: tensor([6, 4, 2, 5, 0, 3, 8, 6, 5, 0])\n",
      "predict label: tensor([6, 4, 2, 5, 0, 3, 8, 6, 5, 0], device='cuda:0')\n"
     ]
    },
    {
     "data": {
      "image/png": "[encoded data removed]",
      "text/plain": [
       "<Figure size 432x288 with 1 Axes>"
      ]
     },
     "metadata": {
      "needs_background": "light"
     },
     "output_type": "display_data"
    },
    {
     "data": {
      "image/png": "[encoded data removed]",
      "text/plain": [
       "<Figure size 432x288 with 1 Axes>"
      ]
     },
     "metadata": {
      "needs_background": "light"
     },
     "output_type": "display_data"
    }
   ],
   "source": [
    "plt.scatter(x=train_accuray.keys(),y=train_accuray.values(),color='blue')\n",
    "plt.scatter(x=test_accuray.keys(),y=test_accuray.values(),color='red')\n",
    "plt.legend(['train accuray','test accuracy'])\n",
    "plt.xlabel('epoch')\n",
    "plt.ylabel('accuracy')\n",
    "plt.title('Accuracy curve')\n",
    "\n",
    "dataloader = DataLoader(test_data,shuffle=True,batch_size=10)\n",
    "correct=0\n",
    "with torch.no_grad():\n",
    "    # for X,y in dataloader:\n",
    "    X,y=next(iter(dataloader))\n",
    "    pred = model(X,batch_norm=True)\n",
    "    correct += (pred.argmax(1)==y).type(torch.float).sum().item()\n",
    "h=model.predict(X)\n",
    "X=X.to('cpu')\n",
    "y=y.to('cpu')\n",
    "plt.subplots()\n",
    "plot_digits(X)\n",
    "print('actual label:',y)\n",
    "print('predict label:',h)"
   ]
  },
  {
   "cell_type": "markdown",
   "metadata": {},
   "source": [
    " 可见分类全部正确, 模型效果不错 \\^o^/"
   ]
  }
 ],
 "metadata": {
  "kernelspec": {
   "display_name": "Python 3 (ipykernel)",
   "language": "python",
   "name": "python3"
  },
  "language_info": {
   "codemirror_mode": {
    "name": "ipython",
    "version": 3
   },
   "file_extension": ".py",
   "mimetype": "text/x-python",
   "name": "python",
   "nbconvert_exporter": "python",
   "pygments_lexer": "ipython3",
   "version": "3.8.10"
  }
 },
 "nbformat": 4,
 "nbformat_minor": 2
}
